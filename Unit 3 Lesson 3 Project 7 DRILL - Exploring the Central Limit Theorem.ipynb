{
 "cells": [
  {
   "cell_type": "code",
   "execution_count": 1,
   "metadata": {},
   "outputs": [],
   "source": [
    "import numpy as np\n",
    "import pandas as pd\n",
    "import scipy\n",
    "import matplotlib.pyplot as plt\n",
    "%matplotlib inline"
   ]
  },
  {
   "cell_type": "code",
   "execution_count": 18,
   "metadata": {},
   "outputs": [
    {
     "data": {
      "image/png": "[encoded data removed]",
      "text/plain": [
       "<Figure size 432x288 with 1 Axes>"
      ]
     },
     "metadata": {
      "needs_background": "light"
     },
     "output_type": "display_data"
    }
   ],
   "source": [
    "pop1 = np.random.binomial(10, 0.2, 10000)\n",
    "pop2 = np.random.binomial(10,0.5, 10000) \n",
    "\n",
    "sample1 = np.random.choice(pop1, 100, replace=True)\n",
    "sample2 = np.random.choice(pop2, 100, replace=True)\n",
    "\n",
    "mean1 = np.mean( sample1)\n",
    "mean2 = np.mean( sample2)\n",
    "std1 = np.std( sample1)\n",
    "std2 = np.std( sample2)\n",
    "\n",
    "plt.hist(sample1, alpha=0.5, label='sample1')\n",
    "plt.hist(sample2, alpha=0.5, label='sample2')\n",
    "plt.axvline( x=mean1, color=\"blue\")\n",
    "plt.axvline( x=mean1 + std1, color=\"blue\")\n",
    "plt.axvline( x=mean1 - std1, color=\"blue\")\n",
    "plt.axvline( x=mean2, color=\"orange\")\n",
    "plt.axvline( x=mean2 + std2, color=\"orange\")\n",
    "plt.axvline( x=mean2 - std2, color=\"orange\")\n",
    "plt.legend(loc='upper right') \n",
    "plt.show()"
   ]
  },
  {
   "cell_type": "code",
   "execution_count": 19,
   "metadata": {},
   "outputs": [
    {
     "data": {
      "image/png": "[encoded data removed]",
      "text/plain": [
       "<Figure size 432x288 with 1 Axes>"
      ]
     },
     "metadata": {
      "needs_background": "light"
     },
     "output_type": "display_data"
    }
   ],
   "source": [
    "sample1 = np.random.choice(pop1, 1000, replace=True)\n",
    "sample2 = np.random.choice(pop2, 1000, replace=True)\n",
    "\n",
    "mean1 = np.mean( sample1)\n",
    "mean2 = np.mean( sample2)\n",
    "std1 = np.std( sample1)\n",
    "std2 = np.std( sample2)\n",
    "\n",
    "plt.hist(sample1, alpha=0.5, label='sample1')\n",
    "plt.hist(sample2, alpha=0.5, label='sample2')\n",
    "plt.axvline( x=mean1, color=\"blue\")\n",
    "plt.axvline( x=mean1 + std1, color=\"blue\")\n",
    "plt.axvline( x=mean1 - std1, color=\"blue\")\n",
    "plt.axvline( x=mean2, color=\"orange\")\n",
    "plt.axvline( x=mean2 + std2, color=\"orange\")\n",
    "plt.axvline( x=mean2 - std2, color=\"orange\")\n",
    "plt.legend(loc='upper right') \n",
    "plt.show()"
   ]
  },
  {
   "cell_type": "code",
   "execution_count": 20,
   "metadata": {},
   "outputs": [
    {
     "data": {
      "image/png": "[encoded data removed]",
      "text/plain": [
       "<Figure size 432x288 with 1 Axes>"
      ]
     },
     "metadata": {
      "needs_background": "light"
     },
     "output_type": "display_data"
    }
   ],
   "source": [
    "sample1 = np.random.choice(pop1, 20, replace=True)\n",
    "sample2 = np.random.choice(pop2, 20, replace=True)\n",
    "\n",
    "mean1 = np.mean( sample1)\n",
    "mean2 = np.mean( sample2)\n",
    "std1 = np.std( sample1)\n",
    "std2 = np.std( sample2)\n",
    "\n",
    "plt.hist(sample1, alpha=0.5, label='sample1')\n",
    "plt.hist(sample2, alpha=0.5, label='sample2')\n",
    "plt.axvline( x=mean1, color=\"blue\")\n",
    "plt.axvline( x=mean1 + std1, color=\"blue\")\n",
    "plt.axvline( x=mean1 - std1, color=\"blue\")\n",
    "plt.axvline( x=mean2, color=\"orange\")\n",
    "plt.axvline( x=mean2 + std2, color=\"orange\")\n",
    "plt.axvline( x=mean2 - std2, color=\"orange\")\n",
    "plt.legend(loc='upper right') \n",
    "plt.show()"
   ]
  },
  {
   "cell_type": "code",
   "execution_count": 21,
   "metadata": {},
   "outputs": [
    {
     "data": {
      "image/png": "[encoded data removed]",
      "text/plain": [
       "<Figure size 432x288 with 1 Axes>"
      ]
     },
     "metadata": {
      "needs_background": "light"
     },
     "output_type": "display_data"
    }
   ],
   "source": [
    "pop1 = np.random.binomial(10, 0.3, 10000)\n",
    "pop2 = np.random.binomial(10,0.5, 10000) \n",
    "\n",
    "sample1 = np.random.choice(pop1, 100, replace=True)\n",
    "sample2 = np.random.choice(pop2, 100, replace=True)\n",
    "\n",
    "mean1 = np.mean( sample1)\n",
    "mean2 = np.mean( sample2)\n",
    "std1 = np.std( sample1)\n",
    "std2 = np.std( sample2)\n",
    "\n",
    "plt.hist(sample1, alpha=0.5, label='sample1')\n",
    "plt.hist(sample2, alpha=0.5, label='sample2')\n",
    "plt.axvline( x=mean1, color=\"blue\")\n",
    "plt.axvline( x=mean1 + std1, color=\"blue\")\n",
    "plt.axvline( x=mean1 - std1, color=\"blue\")\n",
    "plt.axvline( x=mean2, color=\"orange\")\n",
    "plt.axvline( x=mean2 + std2, color=\"orange\")\n",
    "plt.axvline( x=mean2 - std2, color=\"orange\")\n",
    "plt.legend(loc='upper right') \n",
    "plt.show()"
   ]
  },
  {
   "cell_type": "code",
   "execution_count": 23,
   "metadata": {},
   "outputs": [
    {
     "data": {
      "image/png": "[encoded data removed]",
      "text/plain": [
       "<Figure size 432x288 with 1 Axes>"
      ]
     },
     "metadata": {
      "needs_background": "light"
     },
     "output_type": "display_data"
    }
   ],
   "source": [
    "pop1 = np.random.triangular(0, 3, 10, 10000)\n",
    "pop2 = np.random.triangular(0, 7, 10, 10000) \n",
    "\n",
    "\n",
    "sample1 = np.random.choice(pop1, 100, replace=True)\n",
    "sample2 = np.random.choice(pop2, 100, replace=True)\n",
    "\n",
    "mean1 = np.mean( sample1)\n",
    "mean2 = np.mean( sample2)\n",
    "std1 = np.std( sample1)\n",
    "std2 = np.std( sample2)\n",
    "\n",
    "plt.hist(sample1, alpha=0.5, label='sample1')\n",
    "plt.hist(sample2, alpha=0.5, label='sample2')\n",
    "plt.axvline( x=mean1, color=\"blue\")\n",
    "plt.axvline( x=mean1 + std1, color=\"blue\")\n",
    "plt.axvline( x=mean1 - std1, color=\"blue\")\n",
    "plt.axvline( x=mean2, color=\"orange\")\n",
    "plt.axvline( x=mean2 + std2, color=\"orange\")\n",
    "plt.axvline( x=mean2 - std2, color=\"orange\")\n",
    "plt.legend(loc='upper right') \n",
    "plt.show()"
   ]
  },
  {
   "cell_type": "code",
   "execution_count": null,
   "metadata": {},
   "outputs": [],
   "source": []
  }
 ],
 "metadata": {
  "kernelspec": {
   "display_name": "Python 3",
   "language": "python",
   "name": "python3"
  },
  "language_info": {
   "codemirror_mode": {
    "name": "ipython",
    "version": 3
   },
   "file_extension": ".py",
   "mimetype": "text/x-python",
   "name": "python",
   "nbconvert_exporter": "python",
   "pygments_lexer": "ipython3",
   "version": "3.6.4"
  }
 },
 "nbformat": 4,
 "nbformat_minor": 2
}
